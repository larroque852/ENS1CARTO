{
 "cells": [
  {
   "cell_type": "markdown",
   "id": "threatened-cassette",
   "metadata": {},
   "source": [
    "<figure>\n",
    "  <IMG SRC=\"LogoENSEGID.png\" WIDTH=125 ALIGN=\"right\">\n",
    "</figure>\n",
    "\n",
    "# EXPLOITATION D'UN MODELE NUMERIQUE DE TERRAIN (MNT) EN HYDROLOGIE\n",
    "\n",
    "# Comment profiter de Python quand on est (presque) nul en programmation ! Mais qu'on a (un peu) de suite dans les idées (et Internet)"
   ]
  },
  {
   "cell_type": "markdown",
   "id": "demographic-cartridge",
   "metadata": {},
   "source": [
    "## Objectif général\n",
    "\n",
    "Afin d'étudier les caractéristiques du réseau hydrographique associé à un exutoire, nous allons utiliser un Modèle Numérique de Terrain (MNT), qui est une représentation numérique matricielle de la topographie (cf.: https://learn.arcgis.com/fr/related-concepts/digital-elevation-models.htm).\n",
    "La représentation de la topographie se fait sous forme d'une matrice, dont chaque cellule correspond à une superficie unitaire fonction de sa taille (du pas de discrétisation) et au sein de laquelle l'altitude a été moyennée.\n",
    "    \n",
    "<figure>\n",
    "  <IMG SRC=\"dem_principe.png\" WIDTH=350 ALIGN=\"center\">\n",
    "</figure>\n",
    "\n",
    "Plusieurs outils permettant de traiter ce type de données existent, essentiellement des SIG (dont l'excellent et gratuit QGIS (https://www.qgis.org). Toutefois il est également possible d'utiliser d'autres types de ressources comme le langage de programmation Python. Largement développé, Open source, il dispose de nombreuses librairies permettant de traiter un grand nombre de problèmes d'ingénierie dans une multitude de domaines, dont les géosciences.\n",
    "    \n",
    "La première étape est de disposer d'une distribution Python. C'est gratuit et très documenté sur le net, donc on ne détaillera pas ici la procédure d'installation. La solution retenue ici est l'outil JupyterLab (https://jupyter.org/), sous distribution Anaconda ( https://www.anaconda.com ). Encore une fois, internet sera votre meilleur allié si vous voulez installer cet outil. L'avantage de cette interface est de pouvoir être également accessible en ligne via une machine virtuelle, sans avoir à installer quoique ce soit, si le créateur du programme a bien voulu se donner la peine de le mettre à disposition !\n",
    "    \n",
    "L'esprit général de ce tutorial est de répondre à une problématique précise, avec un minimum de connaissance en programmation, et un maximum de réflexion à partir de ressources existantes (qu'on n'oubliera pas bien sûr de citer ! C'est la règle du jeu !). La procédure générale suivie dans cet exercice est construite à partir des tutoriaux développés pour la bibliothèque Pyshed (https://github.com/mdbartos/pysheds). Qu'il soit ici grandement remercié!\n",
    " \n",
    "    \n",
    "Pour notre problématique, on dispose d'un modèle numérique de terrain au pas de 30 mètres, issu du serveur de la NASA/USGS (gdex.cr.usgs.gov). L'exutoire du bassin versant à considérer est situé aux coordonnées WGS84 (27°50'05.0\"N 107°54'59.9\"W) (les plus curieux pourront allez se promener sur la toile pour voir à quoi ressemble le paysage!).\n",
    "\n",
    "Une représentation de la zone d'étude élargie est donnée ci-dessous (source Google Map):\n",
    "<figure>\n",
    "  <IMG SRC=\"mnt_localisation.png\" WIDTH=600 ALIGN=\"center\">\n",
    "</figure>\n",
    "\n",
    "Et avec un zoom précis sur la zone d'étude:\n",
    "<figure>\n",
    "  <IMG SRC=\"Topo_DEM.png\" WIDTH=600 ALIGN=\"center\">\n",
    "</figure>\n",
    "\n"
   ]
  },
  {
   "cell_type": "markdown",
   "id": "sublime-bones",
   "metadata": {},
   "source": [
    "## Préalable\n",
    "\n",
    "Pour toute application développée en Python, on commence par charger les bibliothèques optionnelles qui sont nécessaires à l'élaboration du programme. Généralement, on en rajoute au fur et à mesure du développement du projet. Outre les bibliothèques classiques (os, numpy, matplotlib,...), on récupère des bibliothèques plus spécifiques à notre problème:\n",
    "- Pyshed: https://pypi.org/project/pysheds/"
   ]
  },
  {
   "cell_type": "code",
   "execution_count": null,
   "id": "attempted-boxing",
   "metadata": {},
   "outputs": [],
   "source": [
    "#Import des librairies requises\n",
    "import os\n",
    "import numpy as np\n",
    "import matplotlib as mpl\n",
    "import matplotlib.pyplot as plt\n",
    "import matplotlib.colors as colors\n",
    "\n",
    "#traitement du MNT\n",
    "from pysheds.grid import Grid\n",
    "#creation des shapefiles\n",
    "from shapely import geometry, ops\n",
    "import fiona\n",
    "import warnings\n",
    "\n",
    "import warnings\n",
    "warnings.filterwarnings('ignore')\n"
   ]
  },
  {
   "cell_type": "markdown",
   "id": "attended-pakistan",
   "metadata": {},
   "source": [
    "# Exploitation standard du MNT\n",
    "\n",
    "## Récupération du MNT\n",
    "\n",
    "Il existe plusieurs manière de récupérer les données d'un modèle numérique de terrain. Dans le cadre de l'exercice, on utilisera la lecture directe d'un fichier 'name.TIF', correspondant au format standard d'échange pour un MNT, récupéré par ailleurs et déjà présent dans le répertoire de travail. En fin d'activité, une procédure de récupération à partir d'un fournisseur gratuit est également présentée, permettant d'obtenir gratuitement un MNT de résolution 30 mètre à partir des données de SRTM de la NASA (ce qui est quand même classe), sur une zone quelconque.\n",
    "\n",
    "Il est utile de connaître les informations natives du MNT:\n",
    "- système de coordonnées\n",
    "- extension (coordonnées associées au système natif\n",
    "- identification des données aberrantes\n",
    "- taille (ligne, colonnes);\n",
    "- Altitude maximale et localisation (L,C);\n",
    "- Altitude minimale et localisation (L,C);\n",
    "\n",
    "Ces informations permettent de jongler entre les différents types de coordonnées, à savoir les coordonnées géographiques natives du MNT (WGS 84) et le repère cartésien indexé en (nombre de ligne x nombre de colonne) sur cette emprise. Il est largement conseillé de se fire un petit schéma pour ce repérer dans tout ces systèmes:\n",
    "\n",
    "<figure>\n",
    "  <IMG SRC=\"mnt_coord.png\" WIDTH=600 ALIGN=\"center\">\n",
    "</figure>\n"
   ]
  },
  {
   "cell_type": "code",
   "execution_count": null,
   "id": "desirable-complaint",
   "metadata": {},
   "outputs": [],
   "source": [
    "#Lecture du fichier .TIF\n",
    "grid = Grid.from_raster('DEM_demo.tif', data_name='dem')\n",
    "\n",
    "#Suppression des données formant le cadre du MNT (on évite les effets de bords courants sur les MNT)\n",
    "elevDem=grid.dem[:-1,:-1]\n",
    "\n",
    "print('Système de coordonnées du MNT:', grid.crs.srs)\n",
    "print('Zone emprise du MNT:', grid.bbox)\n",
    "print('Données manquantes identifiées par:', grid.nodata)\n",
    "print(\"Taille du MNT (n Lignes,m Colonnes)\", grid.shape)\n",
    "print(\"Altitude maximale\",np.max(grid), \"rencontrée aux indices (L,C) suivants\", np.where(grid == np.max(grid)))\n",
    "print(\"Altitude minimale\",np.min(grid), \"rencontrée aux indices (L,C) suivants\", np.where(grid == np.min(grid)))\n",
    "\n",
    "# localisation de l'exutoire par ses coordonnées\n",
    "x_exu, y_exu = -107.91663,27.83479\n",
    "#identification de la cellule comprenant l'exutoire dans la grille\n",
    "col_ex, row_ex = grid.nearest_cell(x_exu, y_exu)\n",
    "print(\"Numéro de colonne incluant l'exutoire\",col_ex)\n",
    "print(\"Numéro de ligne incluant l'exutoire\",row_ex)"
   ]
  },
  {
   "cell_type": "markdown",
   "id": "employed-dylan",
   "metadata": {},
   "source": [
    "## Représentation 2D \"image\" en repère matriciel (index ligne / index colonne)\n",
    "\n",
    "Ce mode de représentation peut être plus pratique pour se repérer dans la matrice, à condition de ne pas oublier que la matrice commence à l'index (0,0) !"
   ]
  },
  {
   "cell_type": "code",
   "execution_count": null,
   "id": "solid-identification",
   "metadata": {},
   "outputs": [],
   "source": [
    "## Représentation 2D \"image\" en repère matriciel (index ligne / index colonne)\n",
    "\n",
    "plt.figure(figsize=(9,8))\n",
    "plt.imshow(elevDem, cmap=\"terrain\")\n",
    "plt.title(\"Topographie DEM_demo\")\n",
    "plt.xlabel('Index Colonne')\n",
    "plt.ylabel('Index Ligne')\n",
    "plt.colorbar(label=\"Altitude (m)\")\n",
    "plt.grid()\n",
    "plt.show()"
   ]
  },
  {
   "cell_type": "markdown",
   "id": "operating-image",
   "metadata": {},
   "source": [
    "## Représentation 2D \"image\" en coordonnées WGS84 (coordonnées natives du MNT)\n",
    "\n",
    "Cette présentation produit une image \"propre\", prête à être intégrée dans un rapport."
   ]
  },
  {
   "cell_type": "code",
   "execution_count": null,
   "id": "cooked-commissioner",
   "metadata": {},
   "outputs": [],
   "source": [
    "## Représentation 2D \"image\" en coordonnées WGS84 (coordonnées natives du MNT)\n",
    "\n",
    "plt.figure(figsize=(9,8))\n",
    "plt.imshow(elevDem, extent=grid.extent,cmap=\"terrain\")\n",
    "plt.title(\"Topographie DEM_demo\")\n",
    "plt.xlabel('Longitude (Deg Méridien)')\n",
    "plt.ylabel('Latitude (Nord)')\n",
    "plt.colorbar(label=\"Altitude (m)\")\n",
    "plt.grid()\n",
    "\n",
    "#si vous voulez récuperer une image du MNT\n",
    "#plt.savefig('Topo_DEM.png')"
   ]
  },
  {
   "cell_type": "markdown",
   "id": "celtic-notion",
   "metadata": {},
   "source": [
    "## Présentation alternative: les courbes d'altitude\n",
    "\n",
    "Cette représentation est plus familière pour els utilisateurs de cartes topographiques \"papier\" mais d'un point de vue esthétique, ce n'est pas vraiment le meilleur rendu. "
   ]
  },
  {
   "cell_type": "code",
   "execution_count": null,
   "id": "elect-stationery",
   "metadata": {},
   "outputs": [],
   "source": [
    "## Présentation alternative: les courbes d'altitude\n",
    "\n",
    "plt.figure(figsize=(9,8))\n",
    "ax = plt.contour(elevDem,extent=grid.extent, colors = \"black\", \n",
    "            levels = list(range(0, 2800, 150)))\n",
    "plt.title(\"Topographie courbes iso\")\n",
    "plt.xlabel('Longitude (Deg Méridien)')\n",
    "plt.ylabel('Latitude (Nord)')\n",
    "plt.gca().set_aspect('equal', adjustable='box')\n",
    "#attention pour etre homogene avec les autres representations li faut inverser l'axe des ordonnees\n",
    "plt.gca().invert_yaxis()\n",
    "plt.clabel(ax,colors = 'red', fmt= '%.0f', inline = True)\n",
    "plt.show()"
   ]
  },
  {
   "cell_type": "markdown",
   "id": "adapted-advance",
   "metadata": {},
   "source": [
    "## Tracés de coupes topographiques\n",
    "\n",
    "A partir du MNT, on peut tracer directement des coupes topographiques selon l'axe des abscisses (Est-Ouest) ou l'axe des ordonnées (Nord-Sud). Les tracés selon d'autres directions sont plus complexes et restent d'in rapport investissement/bénéfices assez limité.\n",
    "\n",
    "Cet exercice nécessite d'identifier dans la matrice du MNT la ligne ou la colonne correspondant à la coupe à réaliser. Par exemple, pour réaliser une coupe WE ou NS passant par les altitudes extrêmes"
   ]
  },
  {
   "cell_type": "code",
   "execution_count": null,
   "id": "constitutional-lindsay",
   "metadata": {},
   "outputs": [],
   "source": [
    "## Tracés de coupes topographiques passant par l'altitude maximale rencontrée sur le MNT\n",
    "\n",
    "ztop = (np.where(elevDem == np.max(elevDem)))[0]\n",
    "\n",
    "crossEW=elevDem[ztop[0],:]\n",
    "xcross = np.arange(elevDem.shape[1])\n",
    "crossNS=elevDem[:,ztop[1]]\n",
    "ycross = np.arange(elevDem.shape[0])\n",
    "\n",
    "plt.figure(figsize = (10, 3))\n",
    "plt.subplot(1, 2, 1)\n",
    "plt.plot(crossEW)\n",
    "plt.fill_between(xcross, crossEW, np.min(crossEW))\n",
    "plt.title(\"Topographie W-E (Altitude Max)\")\n",
    "plt.xlabel('Index colonne')\n",
    "plt.ylabel('Altitude (m)')\n",
    "plt.subplot(1, 2, 2)\n",
    "plt.plot(crossNS)\n",
    "plt.fill_between(ycross, crossNS, np.min(crossNS))\n",
    "plt.title(\"Topographie N-S (Altitude Max)\")\n",
    "plt.xlabel('Index ligne')\n",
    "plt.ylabel('Altitude (m)')\n",
    "plt.show()"
   ]
  },
  {
   "cell_type": "markdown",
   "id": "living-refund",
   "metadata": {},
   "source": [
    "# Analyse du réseau hydrographique"
   ]
  },
  {
   "cell_type": "markdown",
   "id": "delayed-compiler",
   "metadata": {},
   "source": [
    "## Traitement préalable du MNT - Préconditionnement\n",
    "\n",
    "Le MNT n'est pas exempt d'artéfacts liés au mode d'acquisition et/ou au mode de traitement des données brutes permettant sa création. Ces artefacts peuvent créer des problèmes pour certaines applications notamment pour l'analyse hydrologique.\n",
    "L'existence de zones de dépression ponctuelle peut générer des erreurs lorsqu'on cherche à déterminer le réseau d'écoulement sur un MNT, en limitant la continuité hydraulique. Un des pré-traitements consiste à lisser le MNT en \"remplissant\" ces petites dépressions, comme schématisé ci-dessous:\n",
    "    \n",
    "<figure>\n",
    "  <IMG SRC=\"sink.png\" WIDTH=250 ALIGN=\"center\">\n",
    "</figure>\n",
    "\n",
    "La deuxième étape consiste à résoudre les ambiguités d'écoulement qui peuvent être crées par ce remplissage \"fictif\", en reliant les pentes autour des zones comblées."
   ]
  },
  {
   "cell_type": "code",
   "execution_count": null,
   "id": "consolidated-trustee",
   "metadata": {},
   "outputs": [],
   "source": [
    "# Identification des depressions\n",
    "\n",
    "depressions = grid.detect_depressions('dem')\n",
    "\n",
    "# Remplissage des depressions\n",
    "grid.fill_depressions(data='dem', out_name='flooded_dem')\n",
    "\n",
    "# Plot depressions avant remplissage\n",
    "plt.figure(figsize=(9,8))\n",
    "plt.imshow(depressions, extent=grid.extent,cmap='Spectral')\n",
    "plt.colorbar(label='index')\n",
    "plt.grid()\n",
    "plt.title(\"Identification des dépressions\")\n",
    "plt.show()\n",
    "\n",
    "# Plot depressions post remplissage\n",
    "plt.figure(figsize=(9,8))\n",
    "plt.imshow(grid.detect_depressions('flooded_dem'), extent=grid.extent,cmap='Spectral')\n",
    "plt.colorbar(label='index')\n",
    "plt.grid()\n",
    "plt.title(\"Identification des dépressions post-traitement\")\n",
    "plt.show()\n",
    "\n"
   ]
  },
  {
   "cell_type": "markdown",
   "id": "adverse-football",
   "metadata": {},
   "source": []
  },
  {
   "cell_type": "code",
   "execution_count": null,
   "id": "stock-diagram",
   "metadata": {},
   "outputs": [],
   "source": [
    "# Detecter les zones lpanes ('flats')\n",
    "\n",
    "flats = grid.detect_flats('flooded_dem')\n",
    "\n",
    "# Plot flats\n",
    "plt.figure(figsize=(9,8))\n",
    "plt.imshow(flats, extent=grid.extent)\n",
    "plt.colorbar(label='index')\n",
    "plt.title(\"Identification des zones planes\")\n",
    "plt.grid()"
   ]
  },
  {
   "cell_type": "markdown",
   "id": "confirmed-accommodation",
   "metadata": {},
   "source": [
    "### Reconstruction du MNT post-conditionné\n",
    "\n",
    "Cette étape permet de lever les ambiguités sur les zones planes qui seraient susceptibles de créer une rupture dans la continuité de l'écoulemment."
   ]
  },
  {
   "cell_type": "code",
   "execution_count": null,
   "id": "ruled-nashville",
   "metadata": {},
   "outputs": [],
   "source": [
    "grid.resolve_flats(data='flooded_dem', out_name='inflated_dem')\n",
    "\n",
    "plt.figure(figsize=(9,8))\n",
    "plt.imshow(grid.inflated_dem[:-1,:-1], extent=grid.extent,cmap=\"terrain\")\n",
    "plt.colorbar(label='Altitude (m)')\n",
    "plt.title(\"MNT post-conditionné\")\n",
    "\n",
    "plt.grid()"
   ]
  },
  {
   "cell_type": "markdown",
   "id": "confirmed-sessions",
   "metadata": {},
   "source": [
    "### Différence entre MNT initial et MNT reconditionné"
   ]
  },
  {
   "cell_type": "code",
   "execution_count": null,
   "id": "laden-ancient",
   "metadata": {},
   "outputs": [],
   "source": [
    "ecart=grid.inflated_dem-grid.dem\n",
    "\n",
    "plt.figure(figsize=(9,8))\n",
    "plt.imshow(ecart, extent=grid.extent,cmap=\"tab10\")\n",
    "plt.colorbar(label='Différence entre MNT (m)')\n",
    "plt.grid()\n"
   ]
  },
  {
   "cell_type": "markdown",
   "id": "waiting-syria",
   "metadata": {},
   "source": [
    "\n",
    "# Exploitation thématique en hydrologie: identifier un bassin versant associé à un exutoire et son réseau d'écoulement\n",
    "\n",
    "## Procédure générale\n",
    "\n",
    "Les applications hydrologiques sont basées sur l'identification des directions d'écoulement au sein du MNT. Cette phase nécessite la création d'une carte des écoulements \"primaires\", c'est à dire de cellule à cellule en fonction de la topologie locale. Les directions d'écoulement sont codées en fonction d'un modèle directionnel. Le modèle à 8 directions (D8) est devenu un standard (figure ci-dessous). Les directions sont codées selon la convention (b). A partir de ce masque appliqué au MNT (a), la matrice des écoulements (c) est obtenue;correspondant au réseau (d):\n",
    "    \n",
    "<figure>\n",
    "  <IMG SRC=\"d8b.png\" WIDTH=300 ALIGN=\"center\">\n",
    "</figure>\n",
    "\n",
    "Le réseau d'écoulement principal est dérivé du réseau élémentaire en calculant des indices d'accumulation et en ne retenant que le réseau au delà d'un indice d'accumulation seuil (figure ci-après - Gunawan et al., 2011). L'indice d'accumulation pour une cellule corresponds au nombre de cellule drainées par la cellule en question.\n",
    "    \n",
    "<figure>\n",
    "  <IMG SRC=\"acc.png\" WIDTH=600 ALIGN=\"center\">\n",
    "</figure>\n",
    "    \n",
    "Déterminer un bassin versant et le réseau d'écoulement associé à un exutoire donné nécessite donc plusieurs étapes:\n",
    "    \n",
    "- création de la carte directionnelle d'écoulement\n",
    "- détermination du bassin versant associé à l'exutoire\n",
    "- détermination des indices d'accumulation au sein du bassin versant\n",
    "- calcul du réseau hydrographique au seuil de drainage considéré\n"
   ]
  },
  {
   "cell_type": "markdown",
   "id": "nearby-roommate",
   "metadata": {},
   "source": [
    "## Création de la carte directionnelle d'écoulement\n",
    "\n",
    "Cette phase nécessite la création d'un \"masque\" de direction en fonction du choix de convention (dans notre cas, la convention est D8). A partir de ce masque, les directions d'écoulement pour chaque pixel sont calculées."
   ]
  },
  {
   "cell_type": "code",
   "execution_count": null,
   "id": "brazilian-classic",
   "metadata": {},
   "outputs": [],
   "source": [
    "# Creation du masque de direction D8\n",
    "#N    NE    E    SE    S    SW    W    NW\n",
    "dirmap = (64,  128,  1,   2,    4,   8,    16,  32)\n",
    "\n",
    "# Calcul des directions d'écoulement D8\n",
    "# -------------------------------------\n",
    "grid.flowdir(data='inflated_dem', out_name='dir', dirmap=dirmap)\n",
    "grid_dir=grid.view('dir')\n",
    "\n",
    "# Creation de la carte d'ecoulement avec une legende correspondant aux direction D8\n",
    "cmap = mpl.colors.ListedColormap(['blue','black','red','yellow','tan','teal','blueviolet','aqua'])\n",
    "bounds=[1,1.8,2.2,4.4,8.8,16.4,32.5,64.5,129]\n",
    "norm = mpl.colors.BoundaryNorm(bounds, cmap.N)\n",
    "\n",
    "plt.figure(figsize=(9,8))\n",
    "plt.imshow(grid_dir, extent=grid.extent,cmap = cmap,norm=norm)\n",
    "plt.grid()\n",
    "plt.colorbar(boundaries=bounds,ticks=[1,2,4,8,16,32,64,128],label='Direction écoulement D8')\n",
    "plt.show()\n"
   ]
  },
  {
   "cell_type": "markdown",
   "id": "institutional-assurance",
   "metadata": {},
   "source": [
    "## Détermination du bassin versant associé à l'exutoire\n",
    "\n",
    "Un petit rappel sur la définition de notre bassin versant: un bassin versant est une surface ascendante d’où s’écoule un flux vers un orifice de drainage commun. Il peut appartenir à un bassin versant de plus grande taille. Il peut également englober des bassins plus petits, appelés sous-bassins. Les limites entre bassins versants sont appelées des lignes de crêtes. Un point d'écoulement correspond au point au niveau duquel l'eau sort d'une surface. Ce point est le plus bas sur la limite du bassin versant.\n",
    "La définition du bassin versant dépends donc du choix du de l'exutoire et d'un indice d'échelle associé.\n",
    "\n",
    "L'exutoire d'intérêt a les coordonnées WGS84(-107.91663,27.83479).\n",
    "\n",
    "A partir de ce point, on identifie le bassin versant à partir de la grille de direction.\n"
   ]
  },
  {
   "cell_type": "code",
   "execution_count": null,
   "id": "individual-establishment",
   "metadata": {},
   "outputs": [],
   "source": [
    "# localisation de l'exutoire par ses coordonnées\n",
    "x_exu, y_exu = -107.91663,27.83479\n",
    "\n",
    "# détermination du bassin versant\n",
    "grid.catchment(data='dir', x=x_exu, y=y_exu, dirmap=dirmap, out_name='catch',\n",
    "               recursionlimit=15000, xytype='label', nodata_out=0)\n",
    "\n",
    "# Recadrage de la zone d'affichage au BV delimité\n",
    "grid.clip_to('catch')\n",
    "\n",
    "# création d'une variable BV à utiliser pour les vues\n",
    "BV = grid.view('dem', nodata=np.nan)\n",
    "\n",
    "plt.figure(figsize=(9,8))\n",
    "plt.imshow(BV, extent=grid.extent,cmap=\"terrain\")\n",
    "plt.colorbar(label='Altitude (m)')\n",
    "plt.grid()\n",
    "\n",
    "#si on veut exporter le resultat dans un nouveau fichier MNT raster\n",
    "#grid.to_raster(BV, 'clippedElevations_WGS84.tif')"
   ]
  },
  {
   "cell_type": "markdown",
   "id": "complicated-reggae",
   "metadata": {},
   "source": [
    "## Détermination des indices d'accumulation au sein du bassin versant\n",
    "\n",
    "L'indice d'accumulation est déterminé de proche en proche à partir de la carte directionnelle en s'incrémentant de cellule en cellule dans le sens de l'écoulement, c'est à dire dans le sens des altitudes décroissantes."
   ]
  },
  {
   "cell_type": "code",
   "execution_count": null,
   "id": "bottom-unknown",
   "metadata": {},
   "outputs": [],
   "source": [
    "# Calcul des indices d'accumulation\n",
    "\n",
    "grid.accumulation(data='catch', dirmap=dirmap, pad_inplace=False, out_name='acc')\n",
    "\n",
    "accView = grid.view('acc', nodata=np.nan)\n",
    "plt.figure(figsize=(9,8))\n",
    "plt.imshow(accView, extent=grid.extent, cmap='Spectral')\n",
    "plt.colorbar(label='Index accumulation')\n",
    "plt.grid()            \n",
    "           "
   ]
  },
  {
   "cell_type": "markdown",
   "id": "hungry-board",
   "metadata": {},
   "source": [
    "## Calcul du réseau hydrographique au seuil de drainage considéré\n",
    "\n",
    "A partir de la carte des indices, on choisit un seuil au delà duquel le réseau hydrographique ne sera plus considéré comme actif. Il n'y a pas de règle absolue pour le choix de la valeur de l'indice. Chaque cas doit être analysé et la méthode essais/erreurs reste la plus pratique pour aboutir à la restitution correspondant à la problématique à traiter.\n",
    "\n",
    "Ci-dessous, plusieurs valeurs de seuil sont proposées afin de mettre en évidence l'influence de ce paramètre sur la densité du réseau hydrographique isolé."
   ]
  },
  {
   "cell_type": "code",
   "execution_count": null,
   "id": "behavioral-disclaimer",
   "metadata": {},
   "outputs": [],
   "source": [
    "\n",
    "#variable en fonction de l'indice - seuiller le découpage du réseau hydro\n",
    "branche10 = grid.extract_river_network(fdir='catch', acc='acc',\n",
    "                                      threshold=10, dirmap=dirmap)\n",
    "branche50 = grid.extract_river_network(fdir='catch', acc='acc',\n",
    "                                      threshold=50, dirmap=dirmap)\n",
    "branche500 = grid.extract_river_network(fdir='catch', acc='acc',\n",
    "                                      threshold=500, dirmap=dirmap)\n",
    "branche5000 = grid.extract_river_network(fdir='catch', acc='acc',\n",
    "                                      threshold=5000, dirmap=dirmap)\n",
    "\n",
    "#representation graphique du reseau hydro (variable/titre à modifier selon le seuil voulu)\n",
    "plt.figure(figsize=(9,8))\n",
    "plt.imshow(BV, extent=grid.extent,cmap=\"binary\")\n",
    "plt.title(\"Réseau hydrographique - Seuil = 500\")\n",
    "plt.grid()            \n",
    "for branch in branche500['features']:\n",
    "     line = np.asarray(branch['geometry']['coordinates'])\n",
    "     plt.plot(line[:, 0], line[:, 1])\n",
    "\n",
    "streams = grid.extract_river_network('catch', 'acc', threshold=10, dirmap=dirmap)\n"
   ]
  },
  {
   "cell_type": "markdown",
   "id": "minimal-colors",
   "metadata": {},
   "source": [
    "## Calcul de la distance d'écoulement à l'exutoire\n",
    "\n",
    "Cet attribut est directement lié au réseau hydrographique isolé. Il permet de cartographier la distance que l'eau doit parcourir pour parvenir à l'exutoire. L'unité de mesure est la taille de cellule. C'est à dire que la distance est comptée en nombre de cellule.\n",
    "\n",
    "Exemple :\n",
    "- cellule de taille $\\Delta = 100$ mètres\n",
    "- nombre de cellules entre l'exutoire et un point du BV: $n=430$\n",
    "- distance \"réelle\" L parcourue par l'eau: $L = {n}{\\Delta} = 430 \\times 100 = 43000$ mètres\n"
   ]
  },
  {
   "cell_type": "code",
   "execution_count": null,
   "id": "parental-drilling",
   "metadata": {},
   "outputs": [],
   "source": [
    "# Calcul de la distance pour chaque cellule à l'exutoire (unite = cellule soit 30 m x 30 m)\n",
    "# -------------------------------------------\n",
    "grid.flow_distance(data='catch', x=x_exu, y=y_exu, dirmap=dirmap,\n",
    "                   out_name='dist', xytype='label')\n",
    "distance=grid.view('dist')\n",
    "\n",
    "plt.figure(figsize=(9,8))\n",
    "plt.imshow(distance, cmap='Spectral')\n",
    "plt.colorbar(label=\"distance à l'exutoire (unite = cellule soit 30 m)\")\n",
    "plt.title(\"Réseau hydrographique - Seuil = 500\")\n",
    "plt.grid()            \n"
   ]
  },
  {
   "cell_type": "markdown",
   "id": "prompt-mayor",
   "metadata": {},
   "source": [
    "## Export des résultats au format SIG\n",
    "\n",
    "Même si les cartes produites nativement durant cet exercice sont intégrables directement dans un document, vous pouvez avoir besoin de récupérer certains éléments pour les combiner avec d'autres données géoréférencées. C'est possible à l'aide d'un logiciel de SIG (par exemple QGIS).\n",
    "\n",
    "Les SIG utilisents 2 types de données: les données RASTER (type MNT) qui sont des données matricielles et les données vecteurs qui correspondent à un codage spatial d'un objet ou d'un groupe d'objet sous la forme de couples de coordonnées et éventuellement de l'information qualitative (X,Y,info). Les données vectorielles sont classiquement stockées dans des fichiers *shapefile* \".shp\".\n"
   ]
  },
  {
   "cell_type": "markdown",
   "id": "comprehensive-external",
   "metadata": {},
   "source": [
    "### Création de l'objet vectoriel bassin versant"
   ]
  },
  {
   "cell_type": "code",
   "execution_count": null,
   "id": "clean-athletics",
   "metadata": {},
   "outputs": [],
   "source": [
    "# Tracé du BV pour l'exutoire (cela a déjà été fait, mais bon...)\n",
    "grid.catchment(data='dir', x=x_exu, y=y_exu, dirmap=dirmap, out_name='catch',\n",
    "               recursionlimit=15000, xytype='label', nodata_out=0)\n",
    "\n",
    "# Ajustement de la fenêtre au BV\n",
    "grid.clip_to('catch')\n",
    "\n",
    "#Création de l'objet vectoriel qui va être ensuite exporté\n",
    "shapes = grid.polygonize()\n",
    "\n",
    "#pour info, on peut représenter l'objet vectoriel\n",
    "#on remarque qu'il faut boucler sur toutes les coordonnées qui composent l'objet jectoriel\n",
    "fig, ax = plt.subplots(figsize=(6.5, 6.5))\n",
    "\n",
    "for shape in shapes:\n",
    "    coords = np.asarray(shape[0]['coordinates'][0])\n",
    "    ax.plot(coords[:,0], coords[:,1], color='cyan')\n",
    "    \n",
    "ax.set_xlim(grid.bbox[0], grid.bbox[2])\n",
    "ax.set_ylim(grid.bbox[1], grid.bbox[3])\n",
    "ax.set_title('Limites du BV (vecteur)')"
   ]
  },
  {
   "cell_type": "markdown",
   "id": "identical-error",
   "metadata": {},
   "source": [
    "### Ecriture du fichier du bassin versant (*.shapefile)\n",
    "\n",
    "Les procédures d'écriture de fichier en Python (et plus généralement dans les langages de progrmmation) sont assez complexes pour les non spécialistes. Il faut donc s'appuyer sur les exemples disponibles dans les différents tutoriaux et pages disponibles sur le net.\n",
    "\n",
    "On y arrive ... avec un peu de persévérance !\n",
    "\n",
    "Le fichier s'appellera BV.shp\n",
    "(en fait un groupe de 5 fichiers: BV.shp / BV.cpg / BV.dbf / BV.prj / BV.shx )"
   ]
  },
  {
   "cell_type": "code",
   "execution_count": null,
   "id": "deluxe-costa",
   "metadata": {},
   "outputs": [],
   "source": [
    "#le fichier s'appellera BV.shp\n",
    "schema = {\n",
    "    'geometry': 'Polygon',\n",
    "    'properties': {'LABEL': 'float:16'}\n",
    "}\n",
    "\n",
    "with fiona.open('BV.shp', 'w',\n",
    "                driver='ESRI Shapefile',\n",
    "                crs=grid.crs.srs,\n",
    "                schema=schema) as c:\n",
    "    i = 0\n",
    "    for shape, value in shapes:\n",
    "        rec = {}\n",
    "        rec['geometry'] = shape\n",
    "        rec['properties'] = {'LABEL' : str(value)}\n",
    "        rec['id'] = str(i)\n",
    "        c.write(rec)\n",
    "        i += 1"
   ]
  },
  {
   "cell_type": "markdown",
   "id": "residential-elimination",
   "metadata": {},
   "source": [
    "### Création de l'objet vectoriel réseau hydrographique\n",
    "\n",
    "La procédure utilisée précédemment reste inchangée par elle renvoie un objet vectoriel par défaut, c'est à dire identifié par des cordonnées (X,Y).\n",
    "Pour rappel, la procédure est redonnée, avec la création de la carte d'indice d'accumulation."
   ]
  },
  {
   "cell_type": "code",
   "execution_count": null,
   "id": "popular-circuit",
   "metadata": {},
   "outputs": [],
   "source": [
    "# grille d'accumulation\n",
    "grid.accumulation(data='catch', dirmap=dirmap, pad_inplace=False, out_name='acc')\n",
    "#réseau hydrographique, au seuil choisi\n",
    "branches = grid.extract_river_network('catch', 'acc', threshold=50, dirmap=dirmap)"
   ]
  },
  {
   "cell_type": "markdown",
   "id": "demanding-validity",
   "metadata": {},
   "source": [
    "### Ecriture du fichier réseau hydrographique (*.shapefile)\n",
    "\n",
    "Le fichier s'appellera rivers.shp\n",
    "(en fait un groupe de 5 fichiers: rivers.shp / rivers.cpg / rivers.dbf / rivers.prj / rivers.shx )\n"
   ]
  },
  {
   "cell_type": "code",
   "execution_count": null,
   "id": "corresponding-blair",
   "metadata": {},
   "outputs": [],
   "source": [
    "schema = {\n",
    "    'geometry': 'LineString',\n",
    "    'properties': {}\n",
    "}\n",
    "\n",
    "with fiona.open('rivers.shp', 'w',\n",
    "                driver='ESRI Shapefile',\n",
    "                crs=grid.crs.srs,\n",
    "                schema=schema) as c:\n",
    "    i = 0\n",
    "    for branch in branches['features']:\n",
    "        rec = {}\n",
    "        rec['geometry'] = branch['geometry']\n",
    "        rec['properties'] = {}\n",
    "        rec['id'] = str(i)\n",
    "        c.write(rec)\n",
    "        i += 1"
   ]
  }
 ],
 "metadata": {
  "kernelspec": {
   "display_name": "Python 3",
   "language": "python",
   "name": "python3"
  },
  "language_info": {
   "codemirror_mode": {
    "name": "ipython",
    "version": 3
   },
   "file_extension": ".py",
   "mimetype": "text/x-python",
   "name": "python",
   "nbconvert_exporter": "python",
   "pygments_lexer": "ipython3",
   "version": "3.8.6"
  }
 },
 "nbformat": 4,
 "nbformat_minor": 5
}
